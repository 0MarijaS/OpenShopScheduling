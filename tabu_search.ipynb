{
 "cells": [
  {
   "cell_type": "code",
   "execution_count": 1,
   "metadata": {
    "id": "Pu6lBvg8W7JJ"
   },
   "outputs": [],
   "source": [
    "import random\n",
    "import numpy as np\n",
    "import copy"
   ]
  },
  {
   "cell_type": "code",
   "execution_count": 2,
   "metadata": {
    "id": "UfxZmwjoNPHs"
   },
   "outputs": [],
   "source": [
    "def read_instance(filename):\n",
    "\n",
    "    with open(filename, 'r') as f:\n",
    "        lines = f.readlines()\n",
    "\n",
    "    first_line = lines[0].split()\n",
    "    n = int(first_line[0])\n",
    "    m = int(first_line[1])\n",
    "\n",
    "    processing_times = [[0]*m for _ in range(n)]\n",
    "    for i in range(n):\n",
    "        line = lines[i+1].split()\n",
    "        for j in range(m):\n",
    "            processing_times[i][j] = int(line[j])\n",
    "    \n",
    "    last_line = lines[-1].split()\n",
    "    ub = int(last_line[0])\n",
    "    lb = int(last_line[1])\n",
    "\n",
    "    return n, m, processing_times, ub, lb\n"
   ]
  },
  {
   "cell_type": "code",
   "execution_count": 3,
   "metadata": {},
   "outputs": [],
   "source": [
    "class Job():\n",
    "\n",
    "    def __init__(self, job_id, processing_times):\n",
    "        self.id = job_id\n",
    "        self.processing_times = processing_times\n",
    "        self.time_available = 0\n",
    "        self.remaining_time = sum(processing_times)\n",
    "        self.remaining_machines = set([i for i in range(len(processing_times))])\n",
    "        \n",
    "class Machine():\n",
    "    def __init__(self, machine_id, processing_times):\n",
    "        self.id = machine_id\n",
    "        self.time_available = 0\n",
    "        self.remaining_time = sum([processing_times[i][machine_id] for i in range(len(processing_times[0]))])\n",
    "        self.remaining_jobs = set([i for i in range(len(processing_times))])\n",
    "\n",
    "def update(machine, job, processing_times):\n",
    "    duration = processing_times[job.id][machine.id]\n",
    "    end  = max(machine.time_available, job.time_available) + duration\n",
    "    machine.remaining_time -= duration\n",
    "    machine.remaining_jobs.remove(job.id)\n",
    "    machine.time_available = end\n",
    "    job.remaining_time -= duration\n",
    "    job.remaining_machines.remove(machine.id)\n",
    "    job.time_available = end"
   ]
  },
  {
   "cell_type": "code",
   "execution_count": 4,
   "metadata": {},
   "outputs": [],
   "source": [
    "from itertools import takewhile\n",
    "\n",
    "\n",
    "def makespan(scheduling, processing_times):\n",
    "    n = len(scheduling[0])\n",
    "    m = len(scheduling)\n",
    "    permutation=[]\n",
    "\n",
    "    jobs = [Job(i, processing_times[i]) for i in range(n)]\n",
    "    machines = [Machine(j, processing_times) for j in range(m)]\n",
    "\n",
    "    for j in range(n):\n",
    "        machine_candidates = list(takewhile(lambda m: m.time_available == machines[0].time_available, machines))\n",
    "        if len(machine_candidates)>1:\n",
    "            machine_candidates.sort(key = lambda m: m.remaining_time, reverse=True)\n",
    "            machine_candidates = list(takewhile(lambda m: m.remaining_time == machine_candidates[0].remaining_time, machine_candidates))\n",
    "            if len(machine_candidates)>1:\n",
    "                job_candidates = [-1 for _ in range(m)]\n",
    "                for machine in machine_candidates:\n",
    "                    job_candidates[machine.id] = scheduling[machine.id][j]\n",
    "                machine_candidates.sort(key = lambda m: jobs[job_candidates[m.id]].remaining_time - processing_times[job_candidates[m.id]][m.id], reverse=True)\n",
    "        candidates_ids= [machine.id for machine in machine_candidates]\n",
    "        machines = machine_candidates + [machine for machine in machines if machine.id not in candidates_ids]\n",
    "        for machine in machines:\n",
    "            permutation.append(jobs[scheduling[machine.id][j]].id*n+machine.id)\n",
    "            update(machine, jobs[scheduling[machine.id][j]], processing_times)\n",
    "            \n",
    "        machines.sort(key = lambda m: m.time_available)\n",
    "       \n",
    "    return (np.max([machine.time_available for machine in machines]), permutation)\n"
   ]
  },
  {
   "cell_type": "code",
   "execution_count": 5,
   "metadata": {},
   "outputs": [],
   "source": [
    "from copy import copy\n",
    "\n",
    "def scheduling(processing_times):\n",
    "    n = len(processing_times)\n",
    "    m = len(processing_times[0])\n",
    "    schedule = [[0]*n for _ in range(m)]\n",
    "    \n",
    "    jobs = [Job(i, processing_times[i]) for i in range(n)]\n",
    "    machines = [Machine(j, processing_times) for j in range(m)]\n",
    "    \n",
    "    next_machine_candidates = copy(machines)\n",
    "    next_machine_candidates.sort(key = lambda m: m.remaining_time, reverse=True)\n",
    "    first_machine = next_machine_candidates[0]\n",
    "    job_candidates = copy(jobs)\n",
    "    job_candidates.sort(key = lambda job: job.remaining_time - processing_times[job.id][first_machine.id], reverse=True)\n",
    "    first_job = job_candidates[0]\n",
    "    schedule[first_machine.id][0] = first_job.id\n",
    "    update(first_machine, first_job, processing_times)\n",
    "    \n",
    "    for k in range(1, n*m):\n",
    "\n",
    "        next_machine_candidates.sort(key = lambda m: m.time_available)\n",
    "       \n",
    "        next_job_candidates = []\n",
    "        for next_machine in next_machine_candidates:\n",
    "            job_candidates = []\n",
    "            for job in next_machine.remaining_jobs:\n",
    "                if jobs[job].time_available<=next_machine.time_available:\n",
    "                    job_candidates.append((jobs[job],jobs[job].remaining_time-jobs[job].processing_times[next_machine.id]))\n",
    "            if len(job_candidates)!=0:\n",
    "                next_machine_id = next_machine.id\n",
    "                next_job_candidates = copy(job_candidates)\n",
    "                break\n",
    "        if len(next_job_candidates)==0:\n",
    "            for machine in next_machine_candidates: \n",
    "                if len(machine.remaining_jobs)!=0:\n",
    "                    next_machine_id=machine.id\n",
    "                    break\n",
    "            remaining_jobs = list(machines[next_machine_id].remaining_jobs)\n",
    "            remaining_jobs.sort(key = lambda job: jobs[job].remaining_time-jobs[job].processing_times[next_machine_id], reverse=True)\n",
    "            job = remaining_jobs[0]\n",
    "            next_job_candidates.append((jobs[job], jobs[job].remaining_time-jobs[job].processing_times[next_machine_id]))\n",
    "    \n",
    "        else:\n",
    "            next_job_candidates.sort(key = lambda job: job[1], reverse=True)\n",
    "\n",
    "        next_job = next_job_candidates[0][0]\n",
    "        next_machine = machines[next_machine_id]\n",
    "        schedule[next_machine.id][len(processing_times)-len(next_machine.remaining_jobs)] = next_job.id\n",
    "        update(next_machine, next_job, processing_times)\n",
    "        \n",
    "    return schedule"
   ]
  },
  {
   "cell_type": "code",
   "execution_count": 6,
   "metadata": {
    "id": "R8u728Yg0oRj"
   },
   "outputs": [],
   "source": [
    "from tqdm import tqdm\n",
    "from copy import deepcopy\n",
    "\n",
    "def pairwise_exchange_neighborhood(schedule):\n",
    "    n = len(schedule[0])\n",
    "    m = len(schedule)\n",
    "    neighborhood = []\n",
    "    for i in range(n):\n",
    "        for j in range(m):\n",
    "            for k in range(i, n):\n",
    "                for l in range(j, m):\n",
    "                    if i == k and j == l:\n",
    "                        continue\n",
    "                    neighbor = deepcopy(schedule)\n",
    "                    if i == k:\n",
    "                        neighbor[i][j], neighbor[i][l] = neighbor[i][l], neighbor[i][j]\n",
    "                        neighborhood.append(neighbor)\n",
    "                        continue\n",
    "                    \n",
    "                    row1, row2 = i, k\n",
    "                    col21 = neighbor[k].index(neighbor[i][j])\n",
    "                    col22 = neighbor[k].index(neighbor[i][l])\n",
    "                    neighbor[i][j], neighbor[i][l] = neighbor[k][col21], neighbor[k][col22]\n",
    "                    neighborhood.append(neighbor)\n",
    "                    \n",
    "    return neighborhood\n",
    "    \n",
    "    # za n,m=4: neighborhood size 84\n",
    "    # 5: 200\n",
    "    # 7: 735\n",
    "    return neighborhood\n",
    "\n",
    "def tabu_search(n, m, processing_times, tabu_length, max_iterations, initial_solution, upper_bound):\n",
    "    best_solution = initial_solution\n",
    "    best_makespan = makespan(initial_solution, processing_times)[0]\n",
    "    current_solution = initial_solution\n",
    "    tabu_list = []\n",
    "    \n",
    "    for it in tqdm(range(max_iterations)):\n",
    "        neighborhood = pairwise_exchange_neighborhood(current_solution)\n",
    "        best_neighbor = neighborhood[0]\n",
    "        best_neighbor_makespan = makespan(best_neighbor, processing_times)[0]\n",
    "        for neighbor in neighborhood[1:]:\n",
    "            neighbor_makespan = makespan(neighbor, processing_times)[0]\n",
    "            if neighbor_makespan < best_neighbor_makespan and neighbor not in tabu_list:\n",
    "                best_neighbor = neighbor\n",
    "                best_neighbor_makespan = neighbor_makespan\n",
    "      \n",
    "        current_solution = best_neighbor\n",
    "        if best_neighbor_makespan < best_makespan:\n",
    "            best_solution = best_neighbor\n",
    "            best_makespan = best_neighbor_makespan\n",
    "            \n",
    "        tabu_list.append(best_neighbor)\n",
    "        if len(tabu_list) > tabu_length:\n",
    "            tabu_list.pop(0)\n",
    "        \n",
    "    return makespan(best_solution, processing_times)\n"
   ]
  },
  {
   "cell_type": "code",
   "execution_count": 8,
   "metadata": {
    "scrolled": true
   },
   "outputs": [
    {
     "name": "stdout",
     "output_type": "stream",
     "text": [
      "[[34, 2, 54, 61], [15, 89, 70, 9], [38, 19, 28, 87], [95, 7, 34, 29]]\n"
     ]
    },
    {
     "name": "stderr",
     "output_type": "stream",
     "text": [
      "100%|█████████████████████████████████████| 10000/10000 [02:34<00:00, 64.80it/s]\n"
     ]
    },
    {
     "name": "stdout",
     "output_type": "stream",
     "text": [
      "(195, [7, 10, 4, 13, 1, 15, 8, 6, 9, 3, 12, 2, 5, 11, 14, 0])\n",
      "[[45, 83, 70, 5], [80, 45, 58, 24], [29, 56, 29, 61], [74, 45, 64, 43]]\n"
     ]
    },
    {
     "name": "stderr",
     "output_type": "stream",
     "text": [
      "100%|█████████████████████████████████████| 10000/10000 [02:22<00:00, 70.36it/s]\n"
     ]
    },
    {
     "name": "stdout",
     "output_type": "stream",
     "text": [
      "(239, [1, 12, 6, 11, 10, 7, 4, 13, 3, 2, 9, 0, 15, 14, 5, 8])\n",
      "[[2, 5, 38, 66], [85, 68, 14, 95], [54, 77, 89, 38], [59, 63, 72, 51]]\n"
     ]
    },
    {
     "name": "stderr",
     "output_type": "stream",
     "text": [
      "100%|█████████████████████████████████████| 10000/10000 [02:29<00:00, 66.91it/s]\n"
     ]
    },
    {
     "name": "stdout",
     "output_type": "stream",
     "text": [
      "(284, [11, 0, 5, 14, 8, 3, 9, 6, 2, 12, 7, 13, 10, 4, 15, 1])\n",
      "[[60, 19, 54, 35], [25, 40, 75, 98], [58, 88, 28, 52], [43, 62, 74, 60]]\n"
     ]
    },
    {
     "name": "stderr",
     "output_type": "stream",
     "text": [
      " 29%|███████████                           | 2920/10000 [00:45<01:49, 64.70it/s]\n"
     ]
    },
    {
     "ename": "KeyboardInterrupt",
     "evalue": "",
     "output_type": "error",
     "traceback": [
      "\u001b[0;31m---------------------------------------------------------------------------\u001b[0m",
      "\u001b[0;31mKeyboardInterrupt\u001b[0m                         Traceback (most recent call last)",
      "Input \u001b[0;32mIn [8]\u001b[0m, in \u001b[0;36m<module>\u001b[0;34m\u001b[0m\n\u001b[1;32m      6\u001b[0m \u001b[38;5;28mprint\u001b[39m(processing_times)\n\u001b[1;32m      7\u001b[0m bounds[i] \u001b[38;5;241m=\u001b[39m (lb, ub)\n\u001b[0;32m----> 8\u001b[0m results[i] \u001b[38;5;241m=\u001b[39m \u001b[43mtabu_search\u001b[49m\u001b[43m(\u001b[49m\u001b[43mn\u001b[49m\u001b[43m,\u001b[49m\u001b[43m \u001b[49m\u001b[43mm\u001b[49m\u001b[43m,\u001b[49m\u001b[43m \u001b[49m\u001b[43mprocessing_times\u001b[49m\u001b[43m,\u001b[49m\u001b[43m \u001b[49m\u001b[38;5;241;43m20\u001b[39;49m\u001b[43m,\u001b[49m\u001b[43m \u001b[49m\u001b[38;5;241;43m10000\u001b[39;49m\u001b[43m,\u001b[49m\u001b[43m \u001b[49m\u001b[43mscheduling\u001b[49m\u001b[43m(\u001b[49m\u001b[43mprocessing_times\u001b[49m\u001b[43m)\u001b[49m\u001b[43m,\u001b[49m\u001b[43m \u001b[49m\u001b[43mub\u001b[49m\u001b[43m)\u001b[49m\n\u001b[1;32m      9\u001b[0m \u001b[38;5;28mprint\u001b[39m(results[i])\n",
      "Input \u001b[0;32mIn [6]\u001b[0m, in \u001b[0;36mtabu_search\u001b[0;34m(n, m, processing_times, tabu_length, max_iterations, initial_solution, upper_bound)\u001b[0m\n\u001b[1;32m     42\u001b[0m best_neighbor_makespan \u001b[38;5;241m=\u001b[39m makespan(best_neighbor, processing_times)[\u001b[38;5;241m0\u001b[39m]\n\u001b[1;32m     43\u001b[0m \u001b[38;5;28;01mfor\u001b[39;00m neighbor \u001b[38;5;129;01min\u001b[39;00m neighborhood[\u001b[38;5;241m1\u001b[39m:]:\n\u001b[0;32m---> 44\u001b[0m     neighbor_makespan \u001b[38;5;241m=\u001b[39m \u001b[43mmakespan\u001b[49m\u001b[43m(\u001b[49m\u001b[43mneighbor\u001b[49m\u001b[43m,\u001b[49m\u001b[43m \u001b[49m\u001b[43mprocessing_times\u001b[49m\u001b[43m)\u001b[49m[\u001b[38;5;241m0\u001b[39m]\n\u001b[1;32m     45\u001b[0m     \u001b[38;5;28;01mif\u001b[39;00m neighbor_makespan \u001b[38;5;241m<\u001b[39m best_neighbor_makespan \u001b[38;5;129;01mand\u001b[39;00m neighbor \u001b[38;5;129;01mnot\u001b[39;00m \u001b[38;5;129;01min\u001b[39;00m tabu_list:\n\u001b[1;32m     46\u001b[0m         best_neighbor \u001b[38;5;241m=\u001b[39m neighbor\n",
      "Input \u001b[0;32mIn [4]\u001b[0m, in \u001b[0;36mmakespan\u001b[0;34m(scheduling, processing_times)\u001b[0m\n\u001b[1;32m     24\u001b[0m     \u001b[38;5;28;01mfor\u001b[39;00m machine \u001b[38;5;129;01min\u001b[39;00m machines:\n\u001b[1;32m     25\u001b[0m         permutation\u001b[38;5;241m.\u001b[39mappend(jobs[scheduling[machine\u001b[38;5;241m.\u001b[39mid][j]]\u001b[38;5;241m.\u001b[39mid\u001b[38;5;241m*\u001b[39mn\u001b[38;5;241m+\u001b[39mmachine\u001b[38;5;241m.\u001b[39mid)\n\u001b[0;32m---> 26\u001b[0m         \u001b[43mupdate\u001b[49m\u001b[43m(\u001b[49m\u001b[43mmachine\u001b[49m\u001b[43m,\u001b[49m\u001b[43m \u001b[49m\u001b[43mjobs\u001b[49m\u001b[43m[\u001b[49m\u001b[43mscheduling\u001b[49m\u001b[43m[\u001b[49m\u001b[43mmachine\u001b[49m\u001b[38;5;241;43m.\u001b[39;49m\u001b[43mid\u001b[49m\u001b[43m]\u001b[49m\u001b[43m[\u001b[49m\u001b[43mj\u001b[49m\u001b[43m]\u001b[49m\u001b[43m]\u001b[49m\u001b[43m,\u001b[49m\u001b[43m \u001b[49m\u001b[43mprocessing_times\u001b[49m\u001b[43m)\u001b[49m\n\u001b[1;32m     28\u001b[0m     machines\u001b[38;5;241m.\u001b[39msort(key \u001b[38;5;241m=\u001b[39m \u001b[38;5;28;01mlambda\u001b[39;00m m: m\u001b[38;5;241m.\u001b[39mtime_available)\n\u001b[1;32m     30\u001b[0m \u001b[38;5;28;01mreturn\u001b[39;00m (np\u001b[38;5;241m.\u001b[39mmax([machine\u001b[38;5;241m.\u001b[39mtime_available \u001b[38;5;28;01mfor\u001b[39;00m machine \u001b[38;5;129;01min\u001b[39;00m machines]), permutation)\n",
      "Input \u001b[0;32mIn [3]\u001b[0m, in \u001b[0;36mupdate\u001b[0;34m(machine, job, processing_times)\u001b[0m\n\u001b[1;32m     23\u001b[0m job\u001b[38;5;241m.\u001b[39mremaining_time \u001b[38;5;241m-\u001b[39m\u001b[38;5;241m=\u001b[39m duration\n\u001b[1;32m     24\u001b[0m job\u001b[38;5;241m.\u001b[39mremaining_machines\u001b[38;5;241m.\u001b[39mremove(machine\u001b[38;5;241m.\u001b[39mid)\n\u001b[0;32m---> 25\u001b[0m job\u001b[38;5;241m.\u001b[39mtime_available \u001b[38;5;241m=\u001b[39m end\n",
      "\u001b[0;31mKeyboardInterrupt\u001b[0m: "
     ]
    }
   ],
   "source": [
    "bounds = [(0,0) for _ in range(10)]\n",
    "results = [0 for _ in range(10)]\n",
    "for i in range(10):\n",
    "    instance_file = \"tests/test44\" + str(i)\n",
    "    n, m, processing_times, ub, lb = read_instance(instance_file)\n",
    "    print(processing_times)\n",
    "    bounds[i] = (lb, ub)\n",
    "    results[i] = tabu_search(n, m, processing_times, 20, 10000, scheduling(processing_times), ub)\n",
    "    print(results[i])\n"
   ]
  },
  {
   "cell_type": "code",
   "execution_count": 176,
   "metadata": {},
   "outputs": [
    {
     "data": {
      "image/png": "[encoded data removed]",
      "text/plain": [
       "<Figure size 432x288 with 1 Axes>"
      ]
     },
     "metadata": {
      "needs_background": "light"
     },
     "output_type": "display_data"
    },
    {
     "name": "stdout",
     "output_type": "stream",
     "text": [
      "[438, 449, 479, 467, 419, 460, 435, 426, 460, 400]\n",
      "[510, 469, 503, 505, 447, 496, 459, 444, 464, 423]\n"
     ]
    }
   ],
   "source": [
    "from matplotlib import pyplot as plt\n",
    "plt.plot(range(10), [bounds[i][0] for i in range(10)])\n",
    "plt.plot(range(10), [bounds[i][1] for i in range(10)])\n",
    "plt.plot(range(10), [res[0] for res in results])\n",
    "plt.show()\n",
    "print([bounds[i][1] for i in range(10)])\n",
    "print( [res[0] for res in results])"
   ]
  },
  {
   "cell_type": "code",
   "execution_count": null,
   "metadata": {},
   "outputs": [],
   "source": [
    "from itertools import permutations\n",
    "\n",
    "def brute_force(processing_times):\n",
    "\n",
    "    perms = list(permutations(range(3)))\n",
    "    min_makespan = float('inf')\n",
    "\n",
    "    p = len(perms)\n",
    "\n",
    "    #3 machines\n",
    "    for i in range(p):\n",
    "        for j in range(p):\n",
    "            for k in range(p):\n",
    "                solution = []\n",
    "                solution.append(perms[i])\n",
    "                solution.append(perms[j])\n",
    "                solution.append(perms[k])\n",
    "\n",
    "                time = makespan(solution,processing_times)\n",
    "                if time < min_makespan:\n",
    "                    min_makespan = time\n",
    "\n",
    "    return min_makespan\n"
   ]
  },
  {
   "cell_type": "code",
   "execution_count": 27,
   "metadata": {},
   "outputs": [
    {
     "data": {
      "text/plain": [
       "[[[40, 5, 18], [30, 21, 14], [8, 37, 16]],\n",
       " [[15, 31, 72], [19, 30, 62], [22, 54, 12]],\n",
       " [[19, 30, 62], [52, 13, 77], [19, 34, 28]],\n",
       " [[27, 32, 51], [11, 40, 20], [71, 40, 60]],\n",
       " [[20, 37, 77], [61, 10, 42], [70, 15, 43]],\n",
       " [[12, 51, 17], [41, 20, 12], [16, 50, 29]],\n",
       " [[50, 10, 70], [10, 20, 40], [70, 40, 30]],\n",
       " [[29, 16, 67], [43, 50, 17], [63, 4, 72]],\n",
       " [[34, 25, 69], [17, 80, 22], [81, 14, 32]]]"
      ]
     },
     "execution_count": 27,
     "metadata": {},
     "output_type": "execute_result"
    }
   ],
   "source": [
    "processing_times= [[[52,13,77], [11,20,42], [7, 44, 32]], \n",
    "                   [[40, 5,18], [30,21,14], [8, 37, 16]],\n",
    "                   [[15,31,72], [19,30,62], [22, 54, 12]],\n",
    "                   [[19,30,62], [52,13,77], [19, 34, 28]],\n",
    "                   [[27,32,51], [11,40,20], [71, 40, 60]],\n",
    "                   [[20,37,77], [61,10,42], [70, 15, 43]],\n",
    "                   [[12,51,17], [41,20,12], [16, 50, 29]],\n",
    "                   [[50,10,70], [10,20,40], [70, 40, 30]],\n",
    "                   [[29,16,67], [43,50,17], [63, 4, 72]],\n",
    "                   [[34,25,69], [17,80,22], [81, 14, 32]]\n",
    "    \n",
    "]\n"
   ]
  },
  {
   "cell_type": "code",
   "execution_count": 30,
   "metadata": {},
   "outputs": [
    {
     "name": "stderr",
     "output_type": "stream",
     "text": [
      "100%|██████████████████████████████████████| 1000/1000 [00:02<00:00, 350.02it/s]\n",
      "100%|██████████████████████████████████████| 1000/1000 [00:02<00:00, 366.95it/s]\n",
      "100%|██████████████████████████████████████| 1000/1000 [00:02<00:00, 373.31it/s]\n",
      "100%|██████████████████████████████████████| 1000/1000 [00:02<00:00, 342.38it/s]\n",
      "100%|██████████████████████████████████████| 1000/1000 [00:03<00:00, 305.69it/s]\n",
      "100%|██████████████████████████████████████| 1000/1000 [00:02<00:00, 363.78it/s]\n",
      "100%|██████████████████████████████████████| 1000/1000 [00:02<00:00, 365.16it/s]\n",
      "100%|██████████████████████████████████████| 1000/1000 [00:02<00:00, 361.90it/s]\n",
      "100%|██████████████████████████████████████| 1000/1000 [00:02<00:00, 350.20it/s]\n",
      "100%|██████████████████████████████████████| 1000/1000 [00:03<00:00, 313.18it/s]"
     ]
    },
    {
     "name": "stdout",
     "output_type": "stream",
     "text": [
      "[151, 78, 146, 167, 171, 162, 121, 140, 156, 139]\n",
      "[151, 78, 146, 167, 171, 162, 121, 140, 156, 139]\n"
     ]
    },
    {
     "name": "stderr",
     "output_type": "stream",
     "text": [
      "\n"
     ]
    }
   ],
   "source": [
    "brute_force_results=[]\n",
    "tabu_search_results=[]\n",
    "for times in processing_times:\n",
    "    brute_force_results.append(brute_force(times))\n",
    "    tabu_search_results.append(tabu_search(3,3,times,3,1000,scheduling(times),1000))\n",
    "    \n",
    "print(brute_force_results)\n",
    "print([res[1] for res in tabu_search_results])"
   ]
  },
  {
   "cell_type": "code",
   "execution_count": null,
   "metadata": {},
   "outputs": [],
   "source": []
  },
  {
   "cell_type": "code",
   "execution_count": null,
   "metadata": {},
   "outputs": [],
   "source": []
  },
  {
   "cell_type": "code",
   "execution_count": null,
   "metadata": {},
   "outputs": [],
   "source": []
  }
 ],
 "metadata": {
  "colab": {
   "provenance": []
  },
  "kernelspec": {
   "display_name": "Python 3 (ipykernel)",
   "language": "python",
   "name": "python3"
  },
  "language_info": {
   "codemirror_mode": {
    "name": "ipython",
    "version": 3
   },
   "file_extension": ".py",
   "mimetype": "text/x-python",
   "name": "python",
   "nbconvert_exporter": "python",
   "pygments_lexer": "ipython3",
   "version": "3.8.10"
  }
 },
 "nbformat": 4,
 "nbformat_minor": 1
}
