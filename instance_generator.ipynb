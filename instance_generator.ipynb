{
 "cells": [
  {
   "cell_type": "code",
   "execution_count": 8,
   "metadata": {
    "id": "krzTXSGWaSVI"
   },
   "outputs": [],
   "source": [
    "import numpy as np\n",
    "\n",
    "def generator(seed, num_instances):\n",
    "    a = 16807\n",
    "    b = 127773\n",
    "    c = 2836\n",
    "    m = pow(2,31)-1\n",
    "    values = np.zeros(num_instances)\n",
    "\n",
    "    for i in range(num_instances):\n",
    "        k = seed//b\n",
    "        seed = a*(seed%b) - k*c\n",
    "        if seed<0:\n",
    "            seed += m\n",
    "        values[i] = seed/m\n",
    "\n",
    "    return values\n",
    "\n",
    "def operation_times_generator(time_seed, n, m):\n",
    "    values = generator(time_seed, n*m)\n",
    "    values =  [int(1+value*99) for value in values]\n",
    "    times = [[0 for _ in range(m)] for _ in range(n)]\n",
    "    i=0\n",
    "    j=0\n",
    "    for k in range(n*m):\n",
    "        i = k//m\n",
    "        j= k%m\n",
    "        times[i][j] = values[k]\n",
    "\n",
    "    return times\n",
    "\n",
    "\n",
    "  \n",
    "def machine_operations_generator(machine_seed, n, m):\n",
    "    machines = [[i for i in range(m)] for _ in range(n)]\n",
    "    values = generator(machine_seed, n*m)\n",
    "    v=0\n",
    "    for i in range(n):\n",
    "        for j in range(m):\n",
    "            k = int(j+(m-j)*values[v])\n",
    "            v+=1\n",
    "            machines[i][j], machines[i][k] = machines[i][k], machines[i][j]\n",
    "\n",
    "    return machines"
   ]
  },
  {
   "cell_type": "code",
   "execution_count": 9,
   "metadata": {},
   "outputs": [],
   "source": [
    "def create_file(output_file, n, m, processing_times, ub, lb):\n",
    "    if output_file is not None:\n",
    "        with open(output_file, 'w') as f:\n",
    "            line = str(n) + \" \" + str(m) + \"\\n\"\n",
    "            f.write(line)\n",
    "            for i in range(n):\n",
    "                line = \"\"\n",
    "                for j in range(m):\n",
    "                    line += str(processing_times[i][j]) + \" \"\n",
    "                f.write(line + \"\\n\")\n",
    "            line = str(ub) + \" \" + str(lb) + \"\\n\"\n",
    "            f.write(line)\n",
    "            \n",
    "\n",
    "    "
   ]
  },
  {
   "cell_type": "code",
   "execution_count": 10,
   "metadata": {},
   "outputs": [],
   "source": [
    "def get_processing_times(n, m, time_seed, machine_seed):\n",
    "    machine_operations = machine_operations_generator(machine_seed, n, m)\n",
    "    operation_times = operation_times_generator(time_seed, n, m)\n",
    "    processing_times = [[0]*m for _ in range(n)]\n",
    "    for i in range(n):\n",
    "        machines = machine_operations[i]\n",
    "        for j in range(m):\n",
    "            processing_times[i][j] = operation_times[i][machines.index(j)]\n",
    "        \n",
    "    return processing_times\n"
   ]
  },
  {
   "cell_type": "code",
   "execution_count": 11,
   "metadata": {},
   "outputs": [],
   "source": [
    "# time seed, machine seed, upper bound, lower bound\n",
    "\n",
    "four = [\n",
    "    [1166510396, 164000672, 193, 186],\n",
    "    [1624514147, 1076870026, 236, 229],\n",
    "    [1116611914, 1729673136, 271, 262],\n",
    "    [410579806, 1453014524, 250, 245],\n",
    "    [1036100146, 375655500, 295, 287],\n",
    "    [597897640, 322140729, 189, 185], \n",
    "    [1268670769, 556009645, 201, 197],\n",
    "    [307928077, 421384574, 217, 212],\n",
    "    [667545295, 485515899, 261, 258],\n",
    "    [35780816, 492238933, 217, 213]   \n",
    "]\n",
    "\n",
    "five = [\n",
    "    [527556884, 1343124817, 300, 295],\n",
    "    [1046824493, 1973406531, 262, 255],\n",
    "    [1165033492, 86711717, 328, 321],\n",
    "    [476292817, 24463110, 310, 306], \n",
    "    [1181363416, 606981348, 329, 321],\n",
    "    [897739730, 513119113, 312, 307],\n",
    "    [577107303, 2046387124, 305, 298],\n",
    "    [1714191910, 1928475945, 300, 292],\n",
    "    [1813128617, 2091141708, 353, 349],\n",
    "    [808919936, 183753764, 326, 321]\n",
    "]\n",
    "\n",
    "seven = [\n",
    "    [1840686215, 1827454623, 438, 435],\n",
    "    [1026771938, 1312166461, 449, 443],\n",
    "    [609471574, 670843185, 479, 468],\n",
    "    [1022295947, 398226875, 467, 463],\n",
    "    [1513073047, 1250759651, 419, 416],\n",
    "    [1612211197, 95606345, 460, 451],\n",
    "    [435024109, 1118234860, 435, 422],\n",
    "    [1760865440, 1099909092, 426, 424],\n",
    "    [122574075, 10979313, 460, 458],\n",
    "    [248031774, 1685251301, 400, 398]\n",
    "]\n",
    "\n",
    "fifteen = [ [1561423441,1787167667, 956, 937],\n",
    "[204120997, 213027331, 957, 918],\n",
    "[801158374, 1812110433, 899, 871],\n",
    "[1502847623, 1527847153, 946, 934],\n",
    "[282791231, 1855451778, 992, 946],\n",
    "[1130361878, 849417380, 959, 933],\n",
    "[379464508, 944419714, 931, 891],\n",
    "[1760142791, 1955448160, 916, 893],\n",
    "[1993140927, 179408412, 951, 899],\n",
    "[1678386613, 1567160817, 935, 902]\n",
    "]"
   ]
  },
  {
   "cell_type": "code",
   "execution_count": 15,
   "metadata": {
    "colab": {
     "base_uri": "https://localhost:8080/",
     "height": 237
    },
    "id": "ZMmtjGwfY_2E",
    "outputId": "d3255011-cfcf-463a-9798-b86e4c8c662f"
   },
   "outputs": [],
   "source": [
    "def generate_instances(data, n, m):\n",
    "\n",
    "    for k in range(10):\n",
    "        instance = data[k]\n",
    "        output_file = \"/home/marija/Desktop/OSS/tests/test{}{}{}\".format(n,m,k)\n",
    "        create_file(output_file, n ,m ,get_processing_times(n,m,instance[0], instance[1]), instance[2], instance[3])\n"
   ]
  },
  {
   "cell_type": "code",
   "execution_count": 19,
   "metadata": {},
   "outputs": [],
   "source": [
    "generate_instances(four, 4, 4)"
   ]
  },
  {
   "cell_type": "code",
   "execution_count": 14,
   "metadata": {},
   "outputs": [
    {
     "ename": "FileNotFoundError",
     "evalue": "[Errno 2] No such file or directory: '/home/marija/Desktop/tests/test550'",
     "output_type": "error",
     "traceback": [
      "\u001b[0;31m---------------------------------------------------------------------------\u001b[0m",
      "\u001b[0;31mFileNotFoundError\u001b[0m                         Traceback (most recent call last)",
      "Input \u001b[0;32mIn [14]\u001b[0m, in \u001b[0;36m<module>\u001b[0;34m\u001b[0m\n\u001b[0;32m----> 1\u001b[0m \u001b[43mgenerate_instances\u001b[49m\u001b[43m(\u001b[49m\u001b[43mfive\u001b[49m\u001b[43m,\u001b[49m\u001b[43m \u001b[49m\u001b[38;5;241;43m5\u001b[39;49m\u001b[43m,\u001b[49m\u001b[43m \u001b[49m\u001b[38;5;241;43m5\u001b[39;49m\u001b[43m)\u001b[49m\n",
      "Input \u001b[0;32mIn [12]\u001b[0m, in \u001b[0;36mgenerate_instances\u001b[0;34m(data, n, m)\u001b[0m\n\u001b[1;32m      4\u001b[0m instance \u001b[38;5;241m=\u001b[39m data[k]\n\u001b[1;32m      5\u001b[0m output_file \u001b[38;5;241m=\u001b[39m \u001b[38;5;124m\"\u001b[39m\u001b[38;5;124m/home/marija/Desktop/tests/test\u001b[39m\u001b[38;5;132;01m{}\u001b[39;00m\u001b[38;5;132;01m{}\u001b[39;00m\u001b[38;5;132;01m{}\u001b[39;00m\u001b[38;5;124m\"\u001b[39m\u001b[38;5;241m.\u001b[39mformat(n,m,k)\n\u001b[0;32m----> 6\u001b[0m \u001b[43mcreate_file\u001b[49m\u001b[43m(\u001b[49m\u001b[43moutput_file\u001b[49m\u001b[43m,\u001b[49m\u001b[43m \u001b[49m\u001b[43mn\u001b[49m\u001b[43m \u001b[49m\u001b[43m,\u001b[49m\u001b[43mm\u001b[49m\u001b[43m \u001b[49m\u001b[43m,\u001b[49m\u001b[43mget_processing_times\u001b[49m\u001b[43m(\u001b[49m\u001b[43mn\u001b[49m\u001b[43m,\u001b[49m\u001b[43mm\u001b[49m\u001b[43m,\u001b[49m\u001b[43minstance\u001b[49m\u001b[43m[\u001b[49m\u001b[38;5;241;43m0\u001b[39;49m\u001b[43m]\u001b[49m\u001b[43m,\u001b[49m\u001b[43m \u001b[49m\u001b[43minstance\u001b[49m\u001b[43m[\u001b[49m\u001b[38;5;241;43m1\u001b[39;49m\u001b[43m]\u001b[49m\u001b[43m)\u001b[49m\u001b[43m,\u001b[49m\u001b[43m \u001b[49m\u001b[43minstance\u001b[49m\u001b[43m[\u001b[49m\u001b[38;5;241;43m2\u001b[39;49m\u001b[43m]\u001b[49m\u001b[43m,\u001b[49m\u001b[43m \u001b[49m\u001b[43minstance\u001b[49m\u001b[43m[\u001b[49m\u001b[38;5;241;43m3\u001b[39;49m\u001b[43m]\u001b[49m\u001b[43m)\u001b[49m\n",
      "Input \u001b[0;32mIn [9]\u001b[0m, in \u001b[0;36mcreate_file\u001b[0;34m(output_file, n, m, processing_times, ub, lb)\u001b[0m\n\u001b[1;32m      1\u001b[0m \u001b[38;5;28;01mdef\u001b[39;00m \u001b[38;5;21mcreate_file\u001b[39m(output_file, n, m, processing_times, ub, lb):\n\u001b[1;32m      2\u001b[0m     \u001b[38;5;28;01mif\u001b[39;00m output_file \u001b[38;5;129;01mis\u001b[39;00m \u001b[38;5;129;01mnot\u001b[39;00m \u001b[38;5;28;01mNone\u001b[39;00m:\n\u001b[0;32m----> 3\u001b[0m         \u001b[38;5;28;01mwith\u001b[39;00m \u001b[38;5;28;43mopen\u001b[39;49m\u001b[43m(\u001b[49m\u001b[43moutput_file\u001b[49m\u001b[43m,\u001b[49m\u001b[43m \u001b[49m\u001b[38;5;124;43m'\u001b[39;49m\u001b[38;5;124;43mw\u001b[39;49m\u001b[38;5;124;43m'\u001b[39;49m\u001b[43m)\u001b[49m \u001b[38;5;28;01mas\u001b[39;00m f:\n\u001b[1;32m      4\u001b[0m             line \u001b[38;5;241m=\u001b[39m \u001b[38;5;28mstr\u001b[39m(n) \u001b[38;5;241m+\u001b[39m \u001b[38;5;124m\"\u001b[39m\u001b[38;5;124m \u001b[39m\u001b[38;5;124m\"\u001b[39m \u001b[38;5;241m+\u001b[39m \u001b[38;5;28mstr\u001b[39m(m) \u001b[38;5;241m+\u001b[39m \u001b[38;5;124m\"\u001b[39m\u001b[38;5;130;01m\\n\u001b[39;00m\u001b[38;5;124m\"\u001b[39m\n\u001b[1;32m      5\u001b[0m             f\u001b[38;5;241m.\u001b[39mwrite(line)\n",
      "\u001b[0;31mFileNotFoundError\u001b[0m: [Errno 2] No such file or directory: '/home/marija/Desktop/tests/test550'"
     ]
    }
   ],
   "source": [
    "generate_instances(five, 5, 5)"
   ]
  },
  {
   "cell_type": "code",
   "execution_count": 23,
   "metadata": {},
   "outputs": [],
   "source": [
    "generate_instances(seven, 7, 7)"
   ]
  },
  {
   "cell_type": "code",
   "execution_count": 16,
   "metadata": {},
   "outputs": [],
   "source": [
    "generate_instances(fifteen, 15, 15)"
   ]
  },
  {
   "cell_type": "code",
   "execution_count": null,
   "metadata": {},
   "outputs": [],
   "source": []
  }
 ],
 "metadata": {
  "colab": {
   "provenance": []
  },
  "kernelspec": {
   "display_name": "Python 3 (ipykernel)",
   "language": "python",
   "name": "python3"
  },
  "language_info": {
   "codemirror_mode": {
    "name": "ipython",
    "version": 3
   },
   "file_extension": ".py",
   "mimetype": "text/x-python",
   "name": "python",
   "nbconvert_exporter": "python",
   "pygments_lexer": "ipython3",
   "version": "3.8.10"
  }
 },
 "nbformat": 4,
 "nbformat_minor": 1
}
