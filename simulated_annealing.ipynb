{
 "cells": [
  {
   "cell_type": "code",
   "execution_count": 1,
   "metadata": {
    "id": "Pu6lBvg8W7JJ"
   },
   "outputs": [],
   "source": [
    "import random\n",
    "import numpy as np\n",
    "from copy import copy, deepcopy\n",
    "from tqdm import tqdm\n",
    "from itertools import permutations, takewhile"
   ]
  },
  {
   "cell_type": "code",
   "execution_count": 2,
   "metadata": {
    "id": "UfxZmwjoNPHs"
   },
   "outputs": [],
   "source": [
    "def read_instance(filename):\n",
    "\n",
    "    with open(filename, 'r') as f:\n",
    "        lines = f.readlines()\n",
    "\n",
    "    first_line = lines[0].split()\n",
    "    n = int(first_line[0])\n",
    "    m = int(first_line[1])\n",
    "\n",
    "    processing_times = [[0]*m for _ in range(n)]\n",
    "    for i in range(n):\n",
    "        line = lines[i+1].split()\n",
    "        for j in range(m):\n",
    "            processing_times[i][j] = int(line[j])\n",
    "    \n",
    "    last_line = lines[-1].split()\n",
    "    ub = int(last_line[0])\n",
    "    lb = int(last_line[1])\n",
    "\n",
    "    return n, m, processing_times, ub, lb\n"
   ]
  },
  {
   "cell_type": "code",
   "execution_count": 3,
   "metadata": {},
   "outputs": [],
   "source": [
    "class Job():\n",
    "\n",
    "    def __init__(self, job_id, processing_times):\n",
    "        self.id = job_id\n",
    "        self.processing_times = processing_times\n",
    "        self.time_available = 0\n",
    "        self.remaining_time = sum(processing_times)\n",
    "        self.remaining_machines = set([i for i in range(len(processing_times))])\n",
    "        \n",
    "class Machine():\n",
    "    def __init__(self, machine_id, processing_times):\n",
    "        self.id = machine_id\n",
    "        self.time_available = 0\n",
    "        self.remaining_time = sum([processing_times[i][machine_id] for i in range(len(processing_times[0]))])\n",
    "        self.remaining_jobs = set([i for i in range(len(processing_times[0]))])\n",
    "\n",
    "def update(machine, job, processing_times):\n",
    "    duration = processing_times[job.id][machine.id]\n",
    "    end  = max(machine.time_available, job.time_available) + duration\n",
    "    machine.remaining_time -= duration\n",
    "    machine.remaining_jobs.remove(job.id)\n",
    "    machine.time_available = end\n",
    "    job.remaining_time -= duration\n",
    "    job.remaining_machines.remove(machine.id)\n",
    "    job.time_available = end"
   ]
  },
  {
   "cell_type": "code",
   "execution_count": 4,
   "metadata": {},
   "outputs": [],
   "source": [
    "from itertools import takewhile\n",
    "\n",
    "\n",
    "def makespan(scheduling, processing_times):\n",
    "    n = len(scheduling[0])\n",
    "    m = len(scheduling)\n",
    "    permutation=[]\n",
    "\n",
    "    jobs = [Job(i, processing_times[i]) for i in range(n)]\n",
    "    machines = [Machine(j, processing_times) for j in range(m)]\n",
    "\n",
    "    for j in range(n):\n",
    "        machine_candidates = list(takewhile(lambda m: m.time_available == machines[0].time_available, machines))\n",
    "        if len(machine_candidates)>1:\n",
    "            machine_candidates.sort(key = lambda m: m.remaining_time, reverse=True)\n",
    "            machine_candidates = list(takewhile(lambda m: m.remaining_time == machine_candidates[0].remaining_time, machine_candidates))\n",
    "            if len(machine_candidates)>1:\n",
    "                job_candidates = [-1 for _ in range(m)]\n",
    "                for machine in machine_candidates:\n",
    "                    job_candidates[machine.id] = scheduling[machine.id][j]\n",
    "                machine_candidates.sort(key = lambda m: jobs[job_candidates[m.id]].remaining_time - processing_times[job_candidates[m.id]][m.id], reverse=True)\n",
    "        candidates_ids= [machine.id for machine in machine_candidates]\n",
    "        machines = machine_candidates + [machine for machine in machines if machine.id not in candidates_ids]\n",
    "        for machine in machines:\n",
    "            permutation.append(jobs[scheduling[machine.id][j]].id*n+machine.id)\n",
    "            update(machine, jobs[scheduling[machine.id][j]], processing_times)\n",
    "            \n",
    "        machines.sort(key = lambda m: m.time_available)\n",
    "       \n",
    "    return (np.max([machine.time_available for machine in machines]), permutation)\n"
   ]
  },
  {
   "cell_type": "code",
   "execution_count": 5,
   "metadata": {},
   "outputs": [],
   "source": [
    "from copy import copy\n",
    "\n",
    "def scheduling(processing_times):\n",
    "    n = len(processing_times)\n",
    "    m = len(processing_times[0])\n",
    "    schedule = [[0]*n for _ in range(m)]\n",
    "    \n",
    "    jobs = [Job(i, processing_times[i]) for i in range(n)]\n",
    "    machines = [Machine(j, processing_times) for j in range(m)]\n",
    "    \n",
    "    next_machine_candidates = copy(machines)\n",
    "    next_machine_candidates.sort(key = lambda m: m.remaining_time, reverse=True)\n",
    "    first_machine = next_machine_candidates[0]\n",
    "    job_candidates = copy(jobs)\n",
    "    job_candidates.sort(key = lambda job: job.remaining_time - processing_times[job.id][first_machine.id], reverse=True)\n",
    "    first_job = job_candidates[0]\n",
    "    schedule[first_machine.id][0] = first_job.id\n",
    "    update(first_machine, first_job, processing_times)\n",
    "    \n",
    "    for k in range(1, n*m):\n",
    "\n",
    "        next_machine_candidates.sort(key = lambda m: m.time_available)\n",
    "       \n",
    "        next_job_candidates = []\n",
    "        for next_machine in next_machine_candidates:\n",
    "            job_candidates = []\n",
    "            for job in next_machine.remaining_jobs:\n",
    "                if jobs[job].time_available<=next_machine.time_available:\n",
    "                    job_candidates.append((jobs[job],jobs[job].remaining_time-jobs[job].processing_times[next_machine.id]))\n",
    "            if len(job_candidates)!=0:\n",
    "                next_machine_id = next_machine.id\n",
    "                next_job_candidates = copy(job_candidates)\n",
    "                break\n",
    "        if len(next_job_candidates)==0:\n",
    "            for machine in next_machine_candidates: \n",
    "                if len(machine.remaining_jobs)!=0:\n",
    "                    next_machine_id=machine.id\n",
    "                    break\n",
    "            remaining_jobs = list(machines[next_machine_id].remaining_jobs)\n",
    "            remaining_jobs.sort(key = lambda job: jobs[job].remaining_time-jobs[job].processing_times[next_machine_id], reverse=True)\n",
    "            job = remaining_jobs[0]\n",
    "            next_job_candidates.append((jobs[job], jobs[job].remaining_time-jobs[job].processing_times[next_machine_id]))\n",
    "    \n",
    "        else:\n",
    "            next_job_candidates.sort(key = lambda job: job[1], reverse=True)\n",
    "\n",
    "        next_job = next_job_candidates[0][0]\n",
    "        next_machine = machines[next_machine_id]\n",
    "        schedule[next_machine.id][len(processing_times)-len(next_machine.remaining_jobs)] = next_job.id\n",
    "        update(next_machine, next_job, processing_times)\n",
    "        \n",
    "    return schedule"
   ]
  },
  {
   "cell_type": "code",
   "execution_count": 10,
   "metadata": {
    "id": "R8u728Yg0oRj"
   },
   "outputs": [],
   "source": [
    "def swap_operations(schedule):\n",
    "    neighbor = deepcopy(schedule)\n",
    "    row = random.choice(range(len(schedule)))\n",
    "    col1, col2 = random.sample(range(len(schedule[0])),2)\n",
    "    schedule[row][col1], schedule[row][col2] = schedule[row][col2], schedule[row][col1]\n",
    "    \n",
    "    return schedule\n",
    "\n",
    "def simulated_annealing(n, m, processing_times, max_iters):\n",
    "    solution = scheduling(processing_times)\n",
    "    value = makespan(solution,processing_times)[0]\n",
    "    best_solution = deepcopy(solution)\n",
    "    best_value = value\n",
    "    \n",
    "    for i in (range(1, max_iters)):\n",
    "\n",
    "        new_solution = swap_operations(solution)\n",
    "        \n",
    "        new_value = makespan(new_solution, processing_times)[0]\n",
    "        \n",
    "        if new_value < value:\n",
    "            value = new_value\n",
    "            solution = new_solution\n",
    "            if new_value < best_value:\n",
    "                best_value = new_value\n",
    "                best_solution = deepcopy(new_solution)\n",
    "        else:\n",
    "            p = 1 / i**0.5 \n",
    "            q = random.random()\n",
    "            if q < p:\n",
    "                value = new_value\n",
    "                solution = new_solution\n",
    "                \n",
    "    return makespan(best_solution, processing_times)\n",
    "\n"
   ]
  },
  {
   "cell_type": "code",
   "execution_count": 11,
   "metadata": {
    "scrolled": false
   },
   "outputs": [
    {
     "name": "stderr",
     "output_type": "stream",
     "text": [
      "  1%|▍                                          | 1/100 [00:17<29:19, 17.77s/it]\n"
     ]
    },
    {
     "ename": "KeyboardInterrupt",
     "evalue": "",
     "output_type": "error",
     "traceback": [
      "\u001b[0;31m---------------------------------------------------------------------------\u001b[0m",
      "\u001b[0;31mKeyboardInterrupt\u001b[0m                         Traceback (most recent call last)",
      "Input \u001b[0;32mIn [11]\u001b[0m, in \u001b[0;36m<module>\u001b[0;34m\u001b[0m\n\u001b[1;32m      7\u001b[0m j\u001b[38;5;241m=\u001b[39m\u001b[38;5;241m0\u001b[39m\n\u001b[1;32m      8\u001b[0m \u001b[38;5;28;01mfor\u001b[39;00m it \u001b[38;5;129;01min\u001b[39;00m tqdm(\u001b[38;5;28mrange\u001b[39m(\u001b[38;5;241m100\u001b[39m)):\n\u001b[0;32m----> 9\u001b[0m     results[i]\u001b[38;5;241m.\u001b[39mappend(\u001b[43msimulated_annealing\u001b[49m\u001b[43m(\u001b[49m\u001b[43mn\u001b[49m\u001b[43m,\u001b[49m\u001b[43m \u001b[49m\u001b[43mm\u001b[49m\u001b[43m,\u001b[49m\u001b[43m \u001b[49m\u001b[43mprocessing_times\u001b[49m\u001b[43m,\u001b[49m\u001b[43m \u001b[49m\u001b[38;5;241;43m50000\u001b[39;49m\u001b[43m)\u001b[49m)\n\u001b[1;32m     10\u001b[0m     j\u001b[38;5;241m+\u001b[39m\u001b[38;5;241m=\u001b[39m\u001b[38;5;241m1\u001b[39m\n\u001b[1;32m     11\u001b[0m \u001b[38;5;28mprint\u001b[39m(\u001b[38;5;28mmin\u001b[39m(results[i]))\n",
      "Input \u001b[0;32mIn [10]\u001b[0m, in \u001b[0;36msimulated_annealing\u001b[0;34m(n, m, processing_times, max_iters)\u001b[0m\n\u001b[1;32m     13\u001b[0m best_value \u001b[38;5;241m=\u001b[39m value\n\u001b[1;32m     15\u001b[0m \u001b[38;5;28;01mfor\u001b[39;00m i \u001b[38;5;129;01min\u001b[39;00m (\u001b[38;5;28mrange\u001b[39m(\u001b[38;5;241m1\u001b[39m, max_iters)):\n\u001b[0;32m---> 17\u001b[0m     new_solution \u001b[38;5;241m=\u001b[39m \u001b[43mswap_operations\u001b[49m\u001b[43m(\u001b[49m\u001b[43msolution\u001b[49m\u001b[43m)\u001b[49m\n\u001b[1;32m     19\u001b[0m     new_value \u001b[38;5;241m=\u001b[39m makespan(new_solution, processing_times)[\u001b[38;5;241m0\u001b[39m]\n\u001b[1;32m     21\u001b[0m     \u001b[38;5;28;01mif\u001b[39;00m new_value \u001b[38;5;241m<\u001b[39m value:\n",
      "Input \u001b[0;32mIn [10]\u001b[0m, in \u001b[0;36mswap_operations\u001b[0;34m(schedule)\u001b[0m\n\u001b[1;32m      1\u001b[0m \u001b[38;5;28;01mdef\u001b[39;00m \u001b[38;5;21mswap_operations\u001b[39m(schedule):\n\u001b[0;32m----> 2\u001b[0m     neighbor \u001b[38;5;241m=\u001b[39m \u001b[43mdeepcopy\u001b[49m\u001b[43m(\u001b[49m\u001b[43mschedule\u001b[49m\u001b[43m)\u001b[49m\n\u001b[1;32m      3\u001b[0m     row \u001b[38;5;241m=\u001b[39m random\u001b[38;5;241m.\u001b[39mchoice(\u001b[38;5;28mrange\u001b[39m(\u001b[38;5;28mlen\u001b[39m(schedule)))\n\u001b[1;32m      4\u001b[0m     col1, col2 \u001b[38;5;241m=\u001b[39m random\u001b[38;5;241m.\u001b[39msample(\u001b[38;5;28mrange\u001b[39m(\u001b[38;5;28mlen\u001b[39m(schedule[\u001b[38;5;241m0\u001b[39m])),\u001b[38;5;241m2\u001b[39m)\n",
      "File \u001b[0;32m/usr/lib/python3.8/copy.py:146\u001b[0m, in \u001b[0;36mdeepcopy\u001b[0;34m(x, memo, _nil)\u001b[0m\n\u001b[1;32m    144\u001b[0m copier \u001b[38;5;241m=\u001b[39m _deepcopy_dispatch\u001b[38;5;241m.\u001b[39mget(\u001b[38;5;28mcls\u001b[39m)\n\u001b[1;32m    145\u001b[0m \u001b[38;5;28;01mif\u001b[39;00m copier \u001b[38;5;129;01mis\u001b[39;00m \u001b[38;5;129;01mnot\u001b[39;00m \u001b[38;5;28;01mNone\u001b[39;00m:\n\u001b[0;32m--> 146\u001b[0m     y \u001b[38;5;241m=\u001b[39m \u001b[43mcopier\u001b[49m\u001b[43m(\u001b[49m\u001b[43mx\u001b[49m\u001b[43m,\u001b[49m\u001b[43m \u001b[49m\u001b[43mmemo\u001b[49m\u001b[43m)\u001b[49m\n\u001b[1;32m    147\u001b[0m \u001b[38;5;28;01melse\u001b[39;00m:\n\u001b[1;32m    148\u001b[0m     \u001b[38;5;28;01mif\u001b[39;00m \u001b[38;5;28missubclass\u001b[39m(\u001b[38;5;28mcls\u001b[39m, \u001b[38;5;28mtype\u001b[39m):\n",
      "File \u001b[0;32m/usr/lib/python3.8/copy.py:205\u001b[0m, in \u001b[0;36m_deepcopy_list\u001b[0;34m(x, memo, deepcopy)\u001b[0m\n\u001b[1;32m    203\u001b[0m append \u001b[38;5;241m=\u001b[39m y\u001b[38;5;241m.\u001b[39mappend\n\u001b[1;32m    204\u001b[0m \u001b[38;5;28;01mfor\u001b[39;00m a \u001b[38;5;129;01min\u001b[39;00m x:\n\u001b[0;32m--> 205\u001b[0m     append(\u001b[43mdeepcopy\u001b[49m\u001b[43m(\u001b[49m\u001b[43ma\u001b[49m\u001b[43m,\u001b[49m\u001b[43m \u001b[49m\u001b[43mmemo\u001b[49m\u001b[43m)\u001b[49m)\n\u001b[1;32m    206\u001b[0m \u001b[38;5;28;01mreturn\u001b[39;00m y\n",
      "File \u001b[0;32m/usr/lib/python3.8/copy.py:146\u001b[0m, in \u001b[0;36mdeepcopy\u001b[0;34m(x, memo, _nil)\u001b[0m\n\u001b[1;32m    144\u001b[0m copier \u001b[38;5;241m=\u001b[39m _deepcopy_dispatch\u001b[38;5;241m.\u001b[39mget(\u001b[38;5;28mcls\u001b[39m)\n\u001b[1;32m    145\u001b[0m \u001b[38;5;28;01mif\u001b[39;00m copier \u001b[38;5;129;01mis\u001b[39;00m \u001b[38;5;129;01mnot\u001b[39;00m \u001b[38;5;28;01mNone\u001b[39;00m:\n\u001b[0;32m--> 146\u001b[0m     y \u001b[38;5;241m=\u001b[39m \u001b[43mcopier\u001b[49m\u001b[43m(\u001b[49m\u001b[43mx\u001b[49m\u001b[43m,\u001b[49m\u001b[43m \u001b[49m\u001b[43mmemo\u001b[49m\u001b[43m)\u001b[49m\n\u001b[1;32m    147\u001b[0m \u001b[38;5;28;01melse\u001b[39;00m:\n\u001b[1;32m    148\u001b[0m     \u001b[38;5;28;01mif\u001b[39;00m \u001b[38;5;28missubclass\u001b[39m(\u001b[38;5;28mcls\u001b[39m, \u001b[38;5;28mtype\u001b[39m):\n",
      "File \u001b[0;32m/usr/lib/python3.8/copy.py:204\u001b[0m, in \u001b[0;36m_deepcopy_list\u001b[0;34m(x, memo, deepcopy)\u001b[0m\n\u001b[1;32m    202\u001b[0m memo[\u001b[38;5;28mid\u001b[39m(x)] \u001b[38;5;241m=\u001b[39m y\n\u001b[1;32m    203\u001b[0m append \u001b[38;5;241m=\u001b[39m y\u001b[38;5;241m.\u001b[39mappend\n\u001b[0;32m--> 204\u001b[0m \u001b[38;5;28;01mfor\u001b[39;00m a \u001b[38;5;129;01min\u001b[39;00m x:\n\u001b[1;32m    205\u001b[0m     append(deepcopy(a, memo))\n\u001b[1;32m    206\u001b[0m \u001b[38;5;28;01mreturn\u001b[39;00m y\n",
      "\u001b[0;31mKeyboardInterrupt\u001b[0m: "
     ]
    }
   ],
   "source": [
    "bounds = [(0,0) for _ in range(10)]\n",
    "results = [[] for _ in range(10)]\n",
    "for i in range(10):\n",
    "    instance_file = \"tests/test55\" + str(i)\n",
    "    n, m, processing_times, ub, lb = read_instance(instance_file)\n",
    "    bounds[i] = (lb, ub)\n",
    "    j=0\n",
    "    for it in tqdm(range(100)):\n",
    "        results[i].append(simulated_annealing(n, m, processing_times, 50000))\n",
    "        j+=1\n",
    "    print(min(results[i]))"
   ]
  },
  {
   "cell_type": "code",
   "execution_count": 10,
   "metadata": {},
   "outputs": [
    {
     "name": "stdout",
     "output_type": "stream",
     "text": [
      "lower bounds: \n",
      "[295, 255, 321, 306, 0, 0, 0, 0, 0, 0]\n",
      "upper_bounds: \n",
      "[300, 262, 328, 310, 0, 0, 0, 0, 0, 0]\n"
     ]
    },
    {
     "ename": "ValueError",
     "evalue": "min() arg is an empty sequence",
     "output_type": "error",
     "traceback": [
      "\u001b[0;31m---------------------------------------------------------------------------\u001b[0m",
      "\u001b[0;31mValueError\u001b[0m                                Traceback (most recent call last)",
      "Input \u001b[0;32mIn [10]\u001b[0m, in \u001b[0;36m<module>\u001b[0;34m\u001b[0m\n\u001b[1;32m      3\u001b[0m \u001b[38;5;28mprint\u001b[39m(\u001b[38;5;124m'\u001b[39m\u001b[38;5;124mupper_bounds: \u001b[39m\u001b[38;5;124m'\u001b[39m)\n\u001b[1;32m      4\u001b[0m \u001b[38;5;28mprint\u001b[39m([bounds[i][\u001b[38;5;241m1\u001b[39m] \u001b[38;5;28;01mfor\u001b[39;00m i \u001b[38;5;129;01min\u001b[39;00m \u001b[38;5;28mrange\u001b[39m(\u001b[38;5;241m10\u001b[39m)])\n\u001b[0;32m----> 6\u001b[0m best \u001b[38;5;241m=\u001b[39m [\u001b[38;5;28mmin\u001b[39m([results[i][j][\u001b[38;5;241m0\u001b[39m] \u001b[38;5;28;01mfor\u001b[39;00m j \u001b[38;5;129;01min\u001b[39;00m \u001b[38;5;28mrange\u001b[39m(\u001b[38;5;28mlen\u001b[39m(results[i]))]) \u001b[38;5;28;01mfor\u001b[39;00m i \u001b[38;5;129;01min\u001b[39;00m \u001b[38;5;28mrange\u001b[39m(\u001b[38;5;241m10\u001b[39m)]\n\u001b[1;32m      7\u001b[0m mean \u001b[38;5;241m=\u001b[39m [\u001b[38;5;28mint\u001b[39m(\u001b[38;5;28msum\u001b[39m([results[i][j][\u001b[38;5;241m0\u001b[39m] \u001b[38;5;28;01mfor\u001b[39;00m j \u001b[38;5;129;01min\u001b[39;00m \u001b[38;5;28mrange\u001b[39m(\u001b[38;5;28mlen\u001b[39m(results[i]))])\u001b[38;5;241m/\u001b[39m(\u001b[38;5;28mlen\u001b[39m(results[i]))) \u001b[38;5;28;01mfor\u001b[39;00m i \u001b[38;5;129;01min\u001b[39;00m \u001b[38;5;28mrange\u001b[39m(\u001b[38;5;241m10\u001b[39m)]\n\u001b[1;32m      8\u001b[0m \u001b[38;5;28mprint\u001b[39m(\u001b[38;5;124m'\u001b[39m\u001b[38;5;124mbest: \u001b[39m\u001b[38;5;124m'\u001b[39m)\n",
      "Input \u001b[0;32mIn [10]\u001b[0m, in \u001b[0;36m<listcomp>\u001b[0;34m(.0)\u001b[0m\n\u001b[1;32m      3\u001b[0m \u001b[38;5;28mprint\u001b[39m(\u001b[38;5;124m'\u001b[39m\u001b[38;5;124mupper_bounds: \u001b[39m\u001b[38;5;124m'\u001b[39m)\n\u001b[1;32m      4\u001b[0m \u001b[38;5;28mprint\u001b[39m([bounds[i][\u001b[38;5;241m1\u001b[39m] \u001b[38;5;28;01mfor\u001b[39;00m i \u001b[38;5;129;01min\u001b[39;00m \u001b[38;5;28mrange\u001b[39m(\u001b[38;5;241m10\u001b[39m)])\n\u001b[0;32m----> 6\u001b[0m best \u001b[38;5;241m=\u001b[39m [\u001b[38;5;28;43mmin\u001b[39;49m\u001b[43m(\u001b[49m\u001b[43m[\u001b[49m\u001b[43mresults\u001b[49m\u001b[43m[\u001b[49m\u001b[43mi\u001b[49m\u001b[43m]\u001b[49m\u001b[43m[\u001b[49m\u001b[43mj\u001b[49m\u001b[43m]\u001b[49m\u001b[43m[\u001b[49m\u001b[38;5;241;43m0\u001b[39;49m\u001b[43m]\u001b[49m\u001b[43m \u001b[49m\u001b[38;5;28;43;01mfor\u001b[39;49;00m\u001b[43m \u001b[49m\u001b[43mj\u001b[49m\u001b[43m \u001b[49m\u001b[38;5;129;43;01min\u001b[39;49;00m\u001b[43m \u001b[49m\u001b[38;5;28;43mrange\u001b[39;49m\u001b[43m(\u001b[49m\u001b[38;5;28;43mlen\u001b[39;49m\u001b[43m(\u001b[49m\u001b[43mresults\u001b[49m\u001b[43m[\u001b[49m\u001b[43mi\u001b[49m\u001b[43m]\u001b[49m\u001b[43m)\u001b[49m\u001b[43m)\u001b[49m\u001b[43m]\u001b[49m\u001b[43m)\u001b[49m \u001b[38;5;28;01mfor\u001b[39;00m i \u001b[38;5;129;01min\u001b[39;00m \u001b[38;5;28mrange\u001b[39m(\u001b[38;5;241m10\u001b[39m)]\n\u001b[1;32m      7\u001b[0m mean \u001b[38;5;241m=\u001b[39m [\u001b[38;5;28mint\u001b[39m(\u001b[38;5;28msum\u001b[39m([results[i][j][\u001b[38;5;241m0\u001b[39m] \u001b[38;5;28;01mfor\u001b[39;00m j \u001b[38;5;129;01min\u001b[39;00m \u001b[38;5;28mrange\u001b[39m(\u001b[38;5;28mlen\u001b[39m(results[i]))])\u001b[38;5;241m/\u001b[39m(\u001b[38;5;28mlen\u001b[39m(results[i]))) \u001b[38;5;28;01mfor\u001b[39;00m i \u001b[38;5;129;01min\u001b[39;00m \u001b[38;5;28mrange\u001b[39m(\u001b[38;5;241m10\u001b[39m)]\n\u001b[1;32m      8\u001b[0m \u001b[38;5;28mprint\u001b[39m(\u001b[38;5;124m'\u001b[39m\u001b[38;5;124mbest: \u001b[39m\u001b[38;5;124m'\u001b[39m)\n",
      "\u001b[0;31mValueError\u001b[0m: min() arg is an empty sequence"
     ]
    }
   ],
   "source": [
    "print('lower bounds: ')\n",
    "print([bounds[i][0] for i in range(10)])\n",
    "print('upper_bounds: ')\n",
    "print([bounds[i][1] for i in range(10)])\n",
    "\n",
    "best = [min([results[i][j][0] for j in range(len(results[i]))]) for i in range(10)]\n",
    "mean = [int(sum([results[i][j][0] for j in range(len(results[i]))])/(len(results[i]))) for i in range(10)]\n",
    "print('best: ')\n",
    "print(best)\n",
    "print('mean')\n",
    "print(mean)"
   ]
  },
  {
   "cell_type": "code",
   "execution_count": null,
   "metadata": {},
   "outputs": [],
   "source": [
    "from matplotlib import pyplot as plt\n",
    "plt.plot(range(10), [bounds[i][0] for i in range(10)])\n",
    "plt.plot(range(10), [bounds[i][1] for i in range(10)])\n",
    "plt.plot(range(10), best)\n",
    "plt.show()\n",
    "print([bounds[i][1] for i in range(10)])\n",
    "print( [res[0] for res in results])"
   ]
  },
  {
   "cell_type": "code",
   "execution_count": null,
   "metadata": {
    "collapsed": true
   },
   "outputs": [],
   "source": [
    "processing_times= [[[52,13,77], [11,20,42], [7, 44, 32]], \n",
    "                   [[40, 5,18], [30,21,14], [8, 37, 16]],\n",
    "                   [[15,31,72], [19,30,62], [22, 54, 12]],\n",
    "                   [[19,30,62], [52,13,77], [19, 34, 28]],\n",
    "                   [[27,32,51], [11,40,20], [71, 40, 60]],\n",
    "                   [[20,37,77], [61,10,42], [70, 15, 43]],\n",
    "                   [[12,51,17], [41,20,12], [16, 50, 29]],\n",
    "                   [[50,10,70], [10,20,40], [70, 40, 30]],\n",
    "                   [[29,16,67], [43,50,17], [63, 4, 72]],\n",
    "                   [[34,25,69], [17,80,22], [81, 14, 32]]\n",
    "    \n",
    "]"
   ]
  },
  {
   "cell_type": "code",
   "execution_count": 143,
   "metadata": {
    "collapsed": true
   },
   "outputs": [],
   "source": [
    "def brute_force(processing_times):\n",
    "\n",
    "    perms = list(permutations(range(3)))\n",
    "    min_makespan = float('inf')\n",
    "\n",
    "    p = len(perms)\n",
    "\n",
    "    #3 machines\n",
    "    for i in range(p):\n",
    "        for j in range(p):\n",
    "            for k in range(p):\n",
    "                solution = []\n",
    "                solution.append(perms[i])\n",
    "                solution.append(perms[j])\n",
    "                solution.append(perms[k])\n",
    "\n",
    "                time = makespan(solution,processing_times)\n",
    "                if time < min_makespan:\n",
    "                    min_makespan = time\n",
    "\n",
    "    return min_makespan\n"
   ]
  },
  {
   "cell_type": "code",
   "execution_count": 75,
   "metadata": {
    "collapsed": true
   },
   "outputs": [
    {
     "name": "stdout",
     "output_type": "stream",
     "text": [
      "[151, 78, 146, 167, 171, 162, 121, 140, 156, 139]\n",
      "[151, 78, 146, 167, 171, 162, 121, 140, 156, 139]\n"
     ]
    }
   ],
   "source": [
    "brute_force_results=[]\n",
    "results=[]\n",
    "for times in processing_times:\n",
    "    brute_force_results.append(brute_force(times))\n",
    "    results.append(simulated_annealing(3, 3, times, 1000, 1))\n",
    "    \n",
    "print(brute_force_results)\n",
    "print([res[1] for res in results])"
   ]
  },
  {
   "cell_type": "code",
   "execution_count": null,
   "metadata": {
    "collapsed": true
   },
   "outputs": [],
   "source": []
  },
  {
   "cell_type": "code",
   "execution_count": null,
   "metadata": {
    "collapsed": true
   },
   "outputs": [],
   "source": []
  },
  {
   "cell_type": "code",
   "execution_count": null,
   "metadata": {
    "collapsed": true
   },
   "outputs": [],
   "source": []
  }
 ],
 "metadata": {
  "colab": {
   "provenance": []
  },
  "kernelspec": {
   "display_name": "Python 3 (ipykernel)",
   "language": "python",
   "name": "python3"
  },
  "language_info": {
   "codemirror_mode": {
    "name": "ipython",
    "version": 3
   },
   "file_extension": ".py",
   "mimetype": "text/x-python",
   "name": "python",
   "nbconvert_exporter": "python",
   "pygments_lexer": "ipython3",
   "version": "3.8.10"
  }
 },
 "nbformat": 4,
 "nbformat_minor": 1
}
